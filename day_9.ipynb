{
 "cells": [
  {
   "cell_type": "code",
   "execution_count": 48,
   "metadata": {},
   "outputs": [],
   "source": [
    "import math"
   ]
  },
  {
   "cell_type": "code",
   "execution_count": 49,
   "metadata": {},
   "outputs": [],
   "source": [
    "with open(\"s_input.txt\") as f:\n",
    "    raw_data = f.read()\n",
    "\n",
    "disk_map = raw_data"
   ]
  },
  {
   "cell_type": "code",
   "execution_count": null,
   "metadata": {},
   "outputs": [
    {
     "name": "stdout",
     "output_type": "stream",
     "text": [
      "[0, None, 1, None, 2, None, 3, None, 4, None, 5, None, 6, None, 7, None, 8, None, 9]\n",
      "[2, 3, 3, 3, 1, 3, 3, 1, 2, 1, 4, 1, 4, 1, 3, 1, 4, 0, 2]\n"
     ]
    }
   ],
   "source": [
    "length_list = [int(size) for size in raw_data]\n",
    "value_list = []\n",
    "for i in range(math.ceil(len(raw_data)/2)):\n",
    "    value_list.extend([i, None])\n",
    "value_list = value_list[0:len(length_list)]\n",
    "\n",
    "print((value_list))\n",
    "print((length_list))"
   ]
  },
  {
   "cell_type": "code",
   "execution_count": 64,
   "metadata": {},
   "outputs": [
    {
     "data": {
      "text/plain": [
       "10"
      ]
     },
     "execution_count": 64,
     "metadata": {},
     "output_type": "execute_result"
    }
   ],
   "source": [
    "# Empty spaces always at uneven index.\n",
    "# Fill list starting from first even index\n",
    "# Need two pointers moving towards eachother, untill they reach eachother\n",
    "# When they reach or pass eachother, string has been completely filled\n",
    "math.floor((len(raw_data) +1)/2)\n",
    "\n"
   ]
  }
 ],
 "metadata": {
  "kernelspec": {
   "display_name": "Python 3",
   "language": "python",
   "name": "python3"
  },
  "language_info": {
   "codemirror_mode": {
    "name": "ipython",
    "version": 3
   },
   "file_extension": ".py",
   "mimetype": "text/x-python",
   "name": "python",
   "nbconvert_exporter": "python",
   "pygments_lexer": "ipython3",
   "version": "3.12.3"
  }
 },
 "nbformat": 4,
 "nbformat_minor": 2
}
