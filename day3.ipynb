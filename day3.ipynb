{
 "cells": [
  {
   "cell_type": "code",
   "execution_count": 3,
   "metadata": {},
   "outputs": [],
   "source": [
    "import re"
   ]
  },
  {
   "cell_type": "code",
   "execution_count": 4,
   "metadata": {},
   "outputs": [],
   "source": [
    "with open(\"input.txt\") as f:\n",
    "    raw_data = f.read()"
   ]
  },
  {
   "cell_type": "code",
   "execution_count": 5,
   "metadata": {},
   "outputs": [
    {
     "name": "stderr",
     "output_type": "stream",
     "text": [
      "<>:5: SyntaxWarning: invalid escape sequence '\\d'\n",
      "<>:5: SyntaxWarning: invalid escape sequence '\\d'\n",
      "C:\\Users\\michi\\AppData\\Local\\Temp\\ipykernel_20900\\558056736.py:5: SyntaxWarning: invalid escape sequence '\\d'\n",
      "  mul_expres = (re.search(\"^\\d+,\\d+\\)\", mul))\n"
     ]
    }
   ],
   "source": [
    "def multiply_partial_string(partial_string):\n",
    "    solution = 0\n",
    "    split_data = (partial_string.split(\"mul(\"))\n",
    "    for mul in split_data:\n",
    "        mul_expres = (re.search(\"^\\d+,\\d+\\)\", mul))\n",
    "        if mul_expres is not None:\n",
    "            valid_mul_expres = mul_expres.group().replace(\")\", \"\").split(\",\")\n",
    "            multiple = int(valid_mul_expres[0]) * int(valid_mul_expres[1])\n",
    "            solution += multiple\n",
    "    \n",
    "    return solution"
   ]
  },
  {
   "cell_type": "code",
   "execution_count": 6,
   "metadata": {},
   "outputs": [
    {
     "name": "stdout",
     "output_type": "stream",
     "text": [
      "answer for question a: 168539636\n"
     ]
    }
   ],
   "source": [
    "print(\"answer for question a:\", multiply_partial_string(raw_data))"
   ]
  },
  {
   "cell_type": "code",
   "execution_count": 14,
   "metadata": {},
   "outputs": [
    {
     "name": "stdout",
     "output_type": "stream",
     "text": [
      "2231574\n",
      "2231574\n",
      "3232745\n",
      "3232745\n",
      "3488682\n",
      "3488682\n",
      "5280870\n",
      "5280870\n",
      "7457530\n",
      "7457530\n",
      "17600516\n",
      "17600516\n",
      "24450699\n",
      "24450699\n",
      "25242719\n",
      "25242719\n",
      "38495573\n",
      "38495573\n",
      "39654823\n",
      "39654823\n",
      "45200247\n",
      "45200247\n",
      "45223095\n",
      "45223095\n",
      "52159368\n",
      "52159368\n",
      "62963653\n",
      "62963653\n",
      "67738257\n",
      "67738257\n",
      "68366937\n",
      "68366937\n",
      "85714893\n",
      "85714893\n",
      "86768292\n",
      "86768292\n",
      "88909100\n"
     ]
    }
   ],
   "source": [
    "# split string in do and dont parts\n",
    "final_solution = 0\n",
    "unmultiplied_string = raw_data\n",
    "search_word = \"don't()\"\n",
    "split_location = 0\n",
    "\n",
    "while split_location != -1:\n",
    "    split_location = unmultiplied_string.find(search_word)\n",
    "    \n",
    "    multiply_string = unmultiplied_string.split(search_word, 1)[0]\n",
    "\n",
    "    # Determine what part of the string must be multiplied (or not\n",
    "    # if split_location == -1:\n",
    "    #     multiply_string = unmultiplied_string\n",
    "    # else:\n",
    "    #     multiply_string = unmultiplied_string[:split_location]\n",
    "    # print(multiply_string_test == multiply_string)\n",
    "    # unmultiplied_string = unmultiplied_string[split_location + len(search_word):]\n",
    "\n",
    "    # Determine if the string will be multiplied\n",
    "    if search_word == \"don't()\":\n",
    "        final_solution += multiply_partial_string(multiply_string)\n",
    "        search_word = \"do()\"\n",
    "    elif search_word == \"do()\":\n",
    "        # If searching for do, string does not have to be multiplied\n",
    "        search_word = \"don't()\"\n",
    "\n",
    "    if len(unmultiplied_string.split(search_word, 1)) == 1:\n",
    "        break\n",
    "    unmultiplied_string = unmultiplied_string.split(search_word, 1)[1]   \n",
    "\n",
    "    print(final_solution)"
   ]
  }
 ],
 "metadata": {
  "kernelspec": {
   "display_name": "Python 3",
   "language": "python",
   "name": "python3"
  },
  "language_info": {
   "codemirror_mode": {
    "name": "ipython",
    "version": 3
   },
   "file_extension": ".py",
   "mimetype": "text/x-python",
   "name": "python",
   "nbconvert_exporter": "python",
   "pygments_lexer": "ipython3",
   "version": "3.12.4"
  }
 },
 "nbformat": 4,
 "nbformat_minor": 2
}
