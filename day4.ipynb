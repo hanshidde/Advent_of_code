{
 "cells": [
  {
   "cell_type": "code",
   "execution_count": 335,
   "metadata": {},
   "outputs": [],
   "source": [
    "import math"
   ]
  },
  {
   "cell_type": "code",
   "execution_count": 336,
   "metadata": {},
   "outputs": [],
   "source": [
    "with open(\"input.txt\") as f:\n",
    "    line_input = [line.rstrip() for line in f]"
   ]
  },
  {
   "cell_type": "code",
   "execution_count": 337,
   "metadata": {},
   "outputs": [],
   "source": [
    "empty_line_found = False\n",
    "rules = []\n",
    "pages = []\n",
    "for line in line_input:\n",
    "    if line == \"\":\n",
    "        empty_line_found = True  \n",
    "    if not empty_line_found:\n",
    "        # Rules\n",
    "        rules.append(line)\n",
    "    if empty_line_found and line != \"\":\n",
    "        pages.append(line)\n",
    "rules_str = [rule.split(\"|\") for rule in rules]"
   ]
  },
  {
   "cell_type": "code",
   "execution_count": 338,
   "metadata": {},
   "outputs": [],
   "source": [
    "# Create list of integers in order based on rules\n",
    "int_rules = []\n",
    "for rule in rules_str:\n",
    "    int_rule = [int(number) for number in rule]\n",
    "    int_rules.append(int_rule)\n",
    "\n",
    "all_numbers = list(set([int(number) for rule in rules_str for number in rule]))"
   ]
  },
  {
   "cell_type": "code",
   "execution_count": 339,
   "metadata": {},
   "outputs": [],
   "source": [
    "def order_correctness_check(page):\n",
    "    unswapped = True\n",
    "    actual_unswapped = True\n",
    "    reversed_page = reversed(page)\n",
    "    \n",
    "    for i, number in enumerate(reversed_page):\n",
    "        for rule in int_rules:\n",
    "            if number == rule[0] and rule[1] in page[0:len(page)-i]:\n",
    "                unswapped = False\n",
    "                # Swap the items in false rule\n",
    "                index_a = page.index(rule[0])\n",
    "                index_b = page.index(rule[1])\n",
    "                page[index_a] = rule[1]\n",
    "                page[index_b] = rule[0]\n",
    "    while not unswapped:\n",
    "        actual_unswapped = False\n",
    "        page, unswapped = order_correctness_check(page)\n",
    "    \n",
    "    return page, actual_unswapped"
   ]
  },
  {
   "cell_type": "code",
   "execution_count": 340,
   "metadata": {},
   "outputs": [
    {
     "name": "stdout",
     "output_type": "stream",
     "text": [
      "4774 6004\n"
     ]
    }
   ],
   "source": [
    "first_solution = 0\n",
    "second_solution = 0\n",
    "split_pages = [page.split(\",\") for page in pages]\n",
    "for page in split_pages:\n",
    "    middle_of_page = math.floor(len(page)/2)\n",
    "    int_page = [int(number) for number in page]\n",
    "    page, list_correct = order_correctness_check(int_page)\n",
    "    if list_correct:\n",
    "        first_solution += (int_page[middle_of_page])\n",
    "    else:\n",
    "        second_solution += (int_page[middle_of_page])\n",
    "        pass\n",
    "\n",
    "print(first_solution, second_solution)"
   ]
  }
 ],
 "metadata": {
  "kernelspec": {
   "display_name": "Python 3",
   "language": "python",
   "name": "python3"
  },
  "language_info": {
   "codemirror_mode": {
    "name": "ipython",
    "version": 3
   },
   "file_extension": ".py",
   "mimetype": "text/x-python",
   "name": "python",
   "nbconvert_exporter": "python",
   "pygments_lexer": "ipython3",
   "version": "3.12.4"
  }
 },
 "nbformat": 4,
 "nbformat_minor": 2
}
