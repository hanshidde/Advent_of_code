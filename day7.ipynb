{
 "cells": [
  {
   "cell_type": "code",
   "execution_count": 14,
   "metadata": {},
   "outputs": [],
   "source": [
    "\"\"\"Prep data for usage\"\"\"\n",
    "with open(\"input.txt\") as f:\n",
    "    line_input = [line.rstrip() for line in f]\n",
    "\n",
    "# Create dictonary for all target and calculation values\n",
    "dict = {}\n",
    "for line in line_input:\n",
    "    result = int(line.split(\":\")[0])\n",
    "    values = line.split(\":\")[1].strip().split(\" \")\n",
    "    int_values = [int(value) for value in values] \n",
    "    dict[result] = int_values"
   ]
  },
  {
   "cell_type": "code",
   "execution_count": 15,
   "metadata": {},
   "outputs": [],
   "source": [
    "def find_possible_numbers(key, numbers):\n",
    "    num_operations = len(numbers) - 1\n",
    "    # List expanding bottom down with all possible combinations\n",
    "    expanding_calulated_nums = [numbers[0]]\n",
    "\n",
    "    # Go through all possible combinations of calculations\n",
    "    for i in range(num_operations):\n",
    "        calculated_nums_temp = []\n",
    "        for temp_calc in expanding_calulated_nums:\n",
    "            # Calculate possible continuations of list\n",
    "            add_sum = temp_calc + numbers[i+1]\n",
    "            add_prd = temp_calc * numbers[i+1]\n",
    "            add_comb = int(str(temp_calc) + str(numbers[i+1]))\n",
    "\n",
    "            # Add numbers that are still below the target value\n",
    "            numbers_to_add = [add_sum, add_prd, add_comb]\n",
    "            numbers_to_add = [num for num in numbers_to_add if num <= key]\n",
    "            calculated_nums_temp.extend(numbers_to_add)\n",
    "\n",
    "        # Prep for next run by adding all possible numbers to list\n",
    "        expanding_calulated_nums = calculated_nums_temp.copy()     \n",
    "    \n",
    "    # Check if the key value is found in the list\n",
    "    if key in expanding_calulated_nums:\n",
    "        return True\n",
    "    else:\n",
    "        return False\n",
    "\n"
   ]
  },
  {
   "cell_type": "code",
   "execution_count": 16,
   "metadata": {},
   "outputs": [],
   "source": [
    "solution = 0\n",
    "# iterate over all value and sum pairs\n",
    "for key in dict:\n",
    "    numbers = dict[key]\n",
    "    if find_possible_numbers(key, numbers):\n",
    "        solution += key"
   ]
  }
 ],
 "metadata": {
  "kernelspec": {
   "display_name": "Python 3",
   "language": "python",
   "name": "python3"
  },
  "language_info": {
   "codemirror_mode": {
    "name": "ipython",
    "version": 3
   },
   "file_extension": ".py",
   "mimetype": "text/x-python",
   "name": "python",
   "nbconvert_exporter": "python",
   "pygments_lexer": "ipython3",
   "version": "3.12.4"
  }
 },
 "nbformat": 4,
 "nbformat_minor": 2
}
