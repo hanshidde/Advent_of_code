{
 "cells": [
  {
   "cell_type": "code",
   "execution_count": 299,
   "metadata": {},
   "outputs": [],
   "source": [
    "import numpy as np"
   ]
  },
  {
   "cell_type": "code",
   "execution_count": 300,
   "metadata": {},
   "outputs": [],
   "source": [
    "with open(\"s_input.txt\") as f:\n",
    "    line_input = [[int(num) for num in line.rstrip()] for line in f]\n",
    "\n",
    "arr_in = np.array(line_input)"
   ]
  },
  {
   "cell_type": "code",
   "execution_count": 301,
   "metadata": {},
   "outputs": [],
   "source": [
    "def find_num_locations(num_to_find):\n",
    "    num_locations = []\n",
    "    for i, row in enumerate(arr_in):\n",
    "        locations = np.where(row == num_to_find)[0]\n",
    "        for j in locations:\n",
    "            num_locations.append([i,j])\n",
    "\n",
    "    return num_locations"
   ]
  },
  {
   "cell_type": "code",
   "execution_count": 302,
   "metadata": {},
   "outputs": [],
   "source": [
    "def nodes_close_enough(a, b):\n",
    "    new_nodes = []\n",
    "    for i in range(len(a)):\n",
    "        if a[i] in b:\n",
    "            num_a = a[1-i]\n",
    "            index_b = b.index(a[i])\n",
    "            num_b = b[1-index_b]\n",
    "            if abs(num_a-num_b) == 1:\n",
    "                new_nodes.append(b)\n",
    "    return new_nodes"
   ]
  },
  {
   "cell_type": "code",
   "execution_count": 303,
   "metadata": {},
   "outputs": [],
   "source": [
    "def find_path_continuations(start_nodes, prev_num):\n",
    "    new_start_nodes = []\n",
    "    potential_nodes = find_num_locations(prev_num+1)\n",
    "    non_duplicate_start_nodes = []\n",
    "    for node_s in start_nodes:\n",
    "        for node_n in potential_nodes:\n",
    "            new_start_nodes.extend(nodes_close_enough(node_s, node_n))\n",
    "            # non_duplicate_start_nodes = [node for node in new_start_nodes if node not in non_duplicate_start_nodes]\n",
    "    for node in new_start_nodes:\n",
    "        if node not in non_duplicate_start_nodes:\n",
    "            non_duplicate_start_nodes.append(node)\n",
    "    new_start_nodes = non_duplicate_start_nodes\n",
    "    print(new_start_nodes)\n",
    "    return new_start_nodes"
   ]
  },
  {
   "cell_type": "code",
   "execution_count": null,
   "metadata": {},
   "outputs": [
    {
     "name": "stdout",
     "output_type": "stream",
     "text": [
      "[[0, 2]]\n",
      "0\n",
      "[[0, 3], [1, 2]]\n",
      "1\n",
      "[[1, 3]]\n",
      "2\n",
      "[[2, 3]]\n",
      "3\n",
      "[[2, 2], [3, 3]]\n",
      "4\n",
      "[[3, 2]]\n",
      "5\n",
      "[[3, 1], [4, 2]]\n",
      "6\n",
      "[[2, 1], [4, 3]]\n",
      "7\n",
      "[[1, 1], [2, 0], [3, 5], [4, 4]]\n",
      "8\n",
      "[[0, 1], [3, 0], [2, 5], [3, 4], [4, 5], [5, 4]]\n",
      "6\n"
     ]
    }
   ],
   "source": [
    "trailheads = find_num_locations(0)\n",
    "search_trail = trailheads.copy()\n",
    "for trailhead in trailheads:\n",
    "    for i in range(0,9):\n",
    "        print(i)\n",
    "        search_trail = find_path_continuations(trailhead, i)\n",
    "    print(len(search_trail))\n"
   ]
  }
 ],
 "metadata": {
  "kernelspec": {
   "display_name": "Python 3",
   "language": "python",
   "name": "python3"
  },
  "language_info": {
   "codemirror_mode": {
    "name": "ipython",
    "version": 3
   },
   "file_extension": ".py",
   "mimetype": "text/x-python",
   "name": "python",
   "nbconvert_exporter": "python",
   "pygments_lexer": "ipython3",
   "version": "3.12.3"
  }
 },
 "nbformat": 4,
 "nbformat_minor": 2
}
